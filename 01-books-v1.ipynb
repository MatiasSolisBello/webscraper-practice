{
  "cells": [
    {
      "cell_type": "code",
      "execution_count": 6,
      "metadata": {
        "colab": {
          "base_uri": "https://localhost:8080/"
        },
        "id": "RVePhzSvBIPe",
        "outputId": "39943524-b8eb-4b3e-edc2-b384346d72f5"
      },
      "outputs": [
        {
          "output_type": "stream",
          "name": "stdout",
          "text": [
            "Requirement already satisfied: beautifulsoup4 in /usr/local/lib/python3.7/dist-packages (4.6.3)\n"
          ]
        }
      ],
      "source": [
        "# Instalación de Beautiful Soup\n",
        "!pip install beautifulsoup4\n",
        "from bs4 import BeautifulSoup as bs"
      ]
    },
    {
      "cell_type": "code",
      "execution_count": 7,
      "metadata": {
        "colab": {
          "base_uri": "https://localhost:8080/"
        },
        "id": "0BRuWtDiCf4m",
        "outputId": "6c18c67a-06c0-4947-934e-6ec436fe909d"
      },
      "outputs": [
        {
          "output_type": "stream",
          "name": "stdout",
          "text": [
            "Requirement already satisfied: requests in /usr/local/lib/python3.7/dist-packages (2.23.0)\n",
            "Requirement already satisfied: chardet<4,>=3.0.2 in /usr/local/lib/python3.7/dist-packages (from requests) (3.0.4)\n",
            "Requirement already satisfied: urllib3!=1.25.0,!=1.25.1,<1.26,>=1.21.1 in /usr/local/lib/python3.7/dist-packages (from requests) (1.24.3)\n",
            "Requirement already satisfied: idna<3,>=2.5 in /usr/local/lib/python3.7/dist-packages (from requests) (2.10)\n",
            "Requirement already satisfied: certifi>=2017.4.17 in /usr/local/lib/python3.7/dist-packages (from requests) (2021.10.8)\n"
          ]
        }
      ],
      "source": [
        "# Instalacion de Requests\n",
        "!pip install requests\n",
        "import requests\n",
        "\n",
        "# Elegir un sitio web del que queremos extraer datos, \n",
        "main_url = \"http://books.toscrape.com/index.html\"\n",
        "\n",
        "# Solicitud GET utilizando \"requests\"\n",
        "res = requests.get(main_url)"
      ]
    },
    {
      "cell_type": "code",
      "execution_count": 8,
      "metadata": {
        "id": "Wg4jICCqNawo"
      },
      "outputs": [],
      "source": [
        "# Obtenemos el url para la paginacion(50)\n",
        "def getAndParseURL(url):\n",
        "    res = requests.get(url)\n",
        "    soup = bs(res.text, 'html.parser')\n",
        "    return(soup)"
      ]
    },
    {
      "cell_type": "code",
      "execution_count": 9,
      "metadata": {
        "id": "7wYFOJKeQBqo"
      },
      "outputs": [],
      "source": [
        "# Conseguimos url de los libros(1000)\n",
        "def getBooksURLs(url):\n",
        "    soup = getAndParseURL(url)\n",
        "    # Eliminamos la parte index.html\n",
        "    return(\n",
        "        [\"/\".join(url.split(\"/\")[:-1]) + \"/\" + x.div.a.get('href') \n",
        "         for x in soup.findAll(\n",
        "             \"article\", class_ = \"product_pod\"\n",
        "          )\n",
        "        ]\n",
        "    )"
      ]
    },
    {
      "cell_type": "code",
      "execution_count": 10,
      "metadata": {
        "colab": {
          "base_uri": "https://localhost:8080/"
        },
        "id": "TfPvOaNrQLvr",
        "outputId": "518cad45-47fa-48bb-8773-9c7964878858"
      },
      "outputs": [
        {
          "output_type": "stream",
          "name": "stdout",
          "text": [
            "50 URL obtenidas\n"
          ]
        },
        {
          "output_type": "execute_result",
          "data": {
            "text/plain": [
              "['http://books.toscrape.com/index.html',\n",
              " 'http://books.toscrape.com/catalogue/page-2.html',\n",
              " 'http://books.toscrape.com/catalogue/page-3.html',\n",
              " 'http://books.toscrape.com/catalogue/page-4.html',\n",
              " 'http://books.toscrape.com/catalogue/page-5.html']"
            ]
          },
          "metadata": {},
          "execution_count": 10
        }
      ],
      "source": [
        "# Almacenar todos los resultados en una lista\n",
        "import re \n",
        "\n",
        "pages_urls = [main_url]\n",
        "soup = getAndParseURL(pages_urls[0])\n",
        "\n",
        "# Aqui obtendremos los links de la paginacion de la app\n",
        "# despues obtendremos los datos de cada uno de los links\n",
        "while len(soup.findAll(\"a\", href=re.compile(\"page\"))) == 2 or len(pages_urls) == 1:\n",
        "    new_url = \"/\".join(pages_urls[-1].split(\"/\")[:-1]) + \"/\" + \n",
        "    soup.findAll(\"a\", href=re.compile(\"page\"))[-1].get(\"href\")\n",
        "    \n",
        "    # agregamos url a la lista\n",
        "    pages_urls.append(new_url)\n",
        "    \n",
        "    # analizar la página siguiente\n",
        "    soup = getAndParseURL(new_url)\n",
        "    \n",
        "# resultados\n",
        "print(str(len(pages_urls)) + \" URL obtenidas\")\n",
        "pages_urls[:5]"
      ]
    },
    {
      "cell_type": "code",
      "execution_count": 11,
      "metadata": {
        "colab": {
          "base_uri": "https://localhost:8080/"
        },
        "id": "52w8_AvmQqf8",
        "outputId": "096f3faa-d179-42b6-d672-9c5e66d7cd67"
      },
      "outputs": [
        {
          "output_type": "stream",
          "name": "stdout",
          "text": [
            "1000 URL obtenidas\n"
          ]
        },
        {
          "output_type": "execute_result",
          "data": {
            "text/plain": [
              "['http://books.toscrape.com/catalogue/a-light-in-the-attic_1000/index.html',\n",
              " 'http://books.toscrape.com/catalogue/tipping-the-velvet_999/index.html',\n",
              " 'http://books.toscrape.com/catalogue/soumission_998/index.html',\n",
              " 'http://books.toscrape.com/catalogue/sharp-objects_997/index.html',\n",
              " 'http://books.toscrape.com/catalogue/sapiens-a-brief-history-of-humankind_996/index.html']"
            ]
          },
          "metadata": {},
          "execution_count": 11
        }
      ],
      "source": [
        "#Aqui guardaremos los datos de las 50 paginas de la paginacion\n",
        "# Obj: debe obtener los 1000 resultados\n",
        "booksURLs = []\n",
        "\n",
        "for page in pages_urls:  #las 50 paginas\n",
        "\n",
        "    #obtenemos los links\n",
        "    booksURLs.extend(getBooksURLs(page))\n",
        "    \n",
        "print(str(len(booksURLs)) + \" URL obtenidas\")\n",
        "booksURLs[:5]"
      ]
    },
    {
      "cell_type": "code",
      "execution_count": 12,
      "metadata": {
        "colab": {
          "base_uri": "https://localhost:8080/",
          "height": 389
        },
        "id": "hDTU-2HDRGQn",
        "outputId": "c59b8865-23d6-470c-fbec-b4689b4331ed"
      },
      "outputs": [
        {
          "output_type": "execute_result",
          "data": {
            "text/html": [
              "\n",
              "  <div id=\"df-2e9cb6b9-7816-4bc8-8ff1-6b73251f1c59\">\n",
              "    <div class=\"colab-df-container\">\n",
              "      <div>\n",
              "<style scoped>\n",
              "    .dataframe tbody tr th:only-of-type {\n",
              "        vertical-align: middle;\n",
              "    }\n",
              "\n",
              "    .dataframe tbody tr th {\n",
              "        vertical-align: top;\n",
              "    }\n",
              "\n",
              "    .dataframe thead th {\n",
              "        text-align: right;\n",
              "    }\n",
              "</style>\n",
              "<table border=\"1\" class=\"dataframe\">\n",
              "  <thead>\n",
              "    <tr style=\"text-align: right;\">\n",
              "      <th></th>\n",
              "      <th>Title</th>\n",
              "      <th>Price</th>\n",
              "      <th>Stock</th>\n",
              "      <th>Category</th>\n",
              "      <th>Cover</th>\n",
              "      <th>UPC</th>\n",
              "      <th>Product Type</th>\n",
              "      <th>Price (excl. tax)</th>\n",
              "      <th>Price (incl. tax)</th>\n",
              "      <th>Tax</th>\n",
              "      <th>Availability</th>\n",
              "      <th>Number of reviews</th>\n",
              "    </tr>\n",
              "  </thead>\n",
              "  <tbody>\n",
              "    <tr>\n",
              "      <th>0</th>\n",
              "      <td>A Light in the Attic</td>\n",
              "      <td>51.77</td>\n",
              "      <td>22</td>\n",
              "      <td>poetry_23</td>\n",
              "      <td>http://books.toscrape.com/catalogue/a-light-in...</td>\n",
              "      <td>a897fe39b1053632</td>\n",
              "      <td>Books</td>\n",
              "      <td>51.77</td>\n",
              "      <td>51.77</td>\n",
              "      <td>0.00</td>\n",
              "      <td>In stock (22 available)</td>\n",
              "      <td>0</td>\n",
              "    </tr>\n",
              "    <tr>\n",
              "      <th>1</th>\n",
              "      <td>Tipping the Velvet</td>\n",
              "      <td>53.74</td>\n",
              "      <td>20</td>\n",
              "      <td>historical-fiction_4</td>\n",
              "      <td>http://books.toscrape.com/catalogue/tipping-th...</td>\n",
              "      <td>90fa61229261140a</td>\n",
              "      <td>Books</td>\n",
              "      <td>53.74</td>\n",
              "      <td>53.74</td>\n",
              "      <td>0.00</td>\n",
              "      <td>In stock (20 available)</td>\n",
              "      <td>0</td>\n",
              "    </tr>\n",
              "    <tr>\n",
              "      <th>2</th>\n",
              "      <td>Soumission</td>\n",
              "      <td>50.10</td>\n",
              "      <td>20</td>\n",
              "      <td>fiction_10</td>\n",
              "      <td>http://books.toscrape.com/catalogue/soumission...</td>\n",
              "      <td>6957f44c3847a760</td>\n",
              "      <td>Books</td>\n",
              "      <td>50.10</td>\n",
              "      <td>50.10</td>\n",
              "      <td>0.00</td>\n",
              "      <td>In stock (20 available)</td>\n",
              "      <td>0</td>\n",
              "    </tr>\n",
              "    <tr>\n",
              "      <th>3</th>\n",
              "      <td>Sharp Objects</td>\n",
              "      <td>47.82</td>\n",
              "      <td>20</td>\n",
              "      <td>mystery_3</td>\n",
              "      <td>http://books.toscrape.com/catalogue/sharp-obje...</td>\n",
              "      <td>e00eb4fd7b871a48</td>\n",
              "      <td>Books</td>\n",
              "      <td>47.82</td>\n",
              "      <td>47.82</td>\n",
              "      <td>0.00</td>\n",
              "      <td>In stock (20 available)</td>\n",
              "      <td>0</td>\n",
              "    </tr>\n",
              "    <tr>\n",
              "      <th>4</th>\n",
              "      <td>Sapiens: A Brief History of Humankind</td>\n",
              "      <td>54.23</td>\n",
              "      <td>20</td>\n",
              "      <td>history_32</td>\n",
              "      <td>http://books.toscrape.com/catalogue/sapiens-a-...</td>\n",
              "      <td>4165285e1663650f</td>\n",
              "      <td>Books</td>\n",
              "      <td>54.23</td>\n",
              "      <td>54.23</td>\n",
              "      <td>0.00</td>\n",
              "      <td>In stock (20 available)</td>\n",
              "      <td>0</td>\n",
              "    </tr>\n",
              "  </tbody>\n",
              "</table>\n",
              "</div>\n",
              "      <button class=\"colab-df-convert\" onclick=\"convertToInteractive('df-2e9cb6b9-7816-4bc8-8ff1-6b73251f1c59')\"\n",
              "              title=\"Convert this dataframe to an interactive table.\"\n",
              "              style=\"display:none;\">\n",
              "        \n",
              "  <svg xmlns=\"http://www.w3.org/2000/svg\" height=\"24px\"viewBox=\"0 0 24 24\"\n",
              "       width=\"24px\">\n",
              "    <path d=\"M0 0h24v24H0V0z\" fill=\"none\"/>\n",
              "    <path d=\"M18.56 5.44l.94 2.06.94-2.06 2.06-.94-2.06-.94-.94-2.06-.94 2.06-2.06.94zm-11 1L8.5 8.5l.94-2.06 2.06-.94-2.06-.94L8.5 2.5l-.94 2.06-2.06.94zm10 10l.94 2.06.94-2.06 2.06-.94-2.06-.94-.94-2.06-.94 2.06-2.06.94z\"/><path d=\"M17.41 7.96l-1.37-1.37c-.4-.4-.92-.59-1.43-.59-.52 0-1.04.2-1.43.59L10.3 9.45l-7.72 7.72c-.78.78-.78 2.05 0 2.83L4 21.41c.39.39.9.59 1.41.59.51 0 1.02-.2 1.41-.59l7.78-7.78 2.81-2.81c.8-.78.8-2.07 0-2.86zM5.41 20L4 18.59l7.72-7.72 1.47 1.35L5.41 20z\"/>\n",
              "  </svg>\n",
              "      </button>\n",
              "      \n",
              "  <style>\n",
              "    .colab-df-container {\n",
              "      display:flex;\n",
              "      flex-wrap:wrap;\n",
              "      gap: 12px;\n",
              "    }\n",
              "\n",
              "    .colab-df-convert {\n",
              "      background-color: #E8F0FE;\n",
              "      border: none;\n",
              "      border-radius: 50%;\n",
              "      cursor: pointer;\n",
              "      display: none;\n",
              "      fill: #1967D2;\n",
              "      height: 32px;\n",
              "      padding: 0 0 0 0;\n",
              "      width: 32px;\n",
              "    }\n",
              "\n",
              "    .colab-df-convert:hover {\n",
              "      background-color: #E2EBFA;\n",
              "      box-shadow: 0px 1px 2px rgba(60, 64, 67, 0.3), 0px 1px 3px 1px rgba(60, 64, 67, 0.15);\n",
              "      fill: #174EA6;\n",
              "    }\n",
              "\n",
              "    [theme=dark] .colab-df-convert {\n",
              "      background-color: #3B4455;\n",
              "      fill: #D2E3FC;\n",
              "    }\n",
              "\n",
              "    [theme=dark] .colab-df-convert:hover {\n",
              "      background-color: #434B5C;\n",
              "      box-shadow: 0px 1px 3px 1px rgba(0, 0, 0, 0.15);\n",
              "      filter: drop-shadow(0px 1px 2px rgba(0, 0, 0, 0.3));\n",
              "      fill: #FFFFFF;\n",
              "    }\n",
              "  </style>\n",
              "\n",
              "      <script>\n",
              "        const buttonEl =\n",
              "          document.querySelector('#df-2e9cb6b9-7816-4bc8-8ff1-6b73251f1c59 button.colab-df-convert');\n",
              "        buttonEl.style.display =\n",
              "          google.colab.kernel.accessAllowed ? 'block' : 'none';\n",
              "\n",
              "        async function convertToInteractive(key) {\n",
              "          const element = document.querySelector('#df-2e9cb6b9-7816-4bc8-8ff1-6b73251f1c59');\n",
              "          const dataTable =\n",
              "            await google.colab.kernel.invokeFunction('convertToInteractive',\n",
              "                                                     [key], {});\n",
              "          if (!dataTable) return;\n",
              "\n",
              "          const docLinkHtml = 'Like what you see? Visit the ' +\n",
              "            '<a target=\"_blank\" href=https://colab.research.google.com/notebooks/data_table.ipynb>data table notebook</a>'\n",
              "            + ' to learn more about interactive tables.';\n",
              "          element.innerHTML = '';\n",
              "          dataTable['output_type'] = 'display_data';\n",
              "          await google.colab.output.renderOutput(dataTable, element);\n",
              "          const docLink = document.createElement('div');\n",
              "          docLink.innerHTML = docLinkHtml;\n",
              "          element.appendChild(docLink);\n",
              "        }\n",
              "      </script>\n",
              "    </div>\n",
              "  </div>\n",
              "  "
            ],
            "text/plain": [
              "                                   Title  ... Number of reviews\n",
              "0                   A Light in the Attic  ...                 0\n",
              "1                     Tipping the Velvet  ...                 0\n",
              "2                             Soumission  ...                 0\n",
              "3                          Sharp Objects  ...                 0\n",
              "4  Sapiens: A Brief History of Humankind  ...                 0\n",
              "\n",
              "[5 rows x 12 columns]"
            ]
          },
          "metadata": {},
          "execution_count": 12
        }
      ],
      "source": [
        "#Ya hemos obtenido los links de los 1000 paginas\n",
        "# ahora corresponde organizarla segun los datos solicitados\n",
        "\n",
        "# LA EJECUCION DE ESTE CODIGO PUEDE DEMORAR,\n",
        "# RECOMIENTO MIRAR POR LA VENTANA MIENTRAS ESPERA :P\n",
        "\n",
        "import pandas as pd\n",
        "\n",
        "# -------ENTRADA-------\n",
        "title = []\n",
        "prices = []\n",
        "stock = []\n",
        "categories = []\n",
        "cover = []\n",
        "\n",
        "#Product Description\n",
        "upc = []\n",
        "product_type = []\n",
        "price_excl= []\n",
        "price_incl= []\n",
        "tax= []\n",
        "availability= []\n",
        "reviews= []\n",
        "\n",
        "# -------PROCESO-------\n",
        "# recopilar datos para la URL de cada libro\n",
        "for url in booksURLs:\n",
        "    soup = getAndParseURL(url)\n",
        "\n",
        "    # Titulo del libro -> div con clase \"product_main\" y al h1\n",
        "    title.append(\n",
        "        soup.find(\"div\", class_ = re.compile(\"product_main\")\n",
        "    ).h1.text)\n",
        "\n",
        "    # Precio -> p con clase \"price_color\", [2:] incluye $\n",
        "    prices.append(soup.find(\n",
        "        \"p\", class_ = \"price_color\").text[2:]\n",
        "    )\n",
        "\n",
        "\n",
        "    # Categoria -> links de la categoria\n",
        "    categories.append(soup.find(\n",
        "        \"a\", href = re.compile(\"../category/books/\")\n",
        "    ).get(\"href\").split(\"/\")[3])\n",
        "\n",
        "\n",
        "    # stock -> p con clase y transformamos a texto\n",
        "    stock.append(re.sub(\"[^0-9]\", \"\", soup.find(\n",
        "        \"p\", class_ = \"instock availability\").text)\n",
        "    )\n",
        "\n",
        "    #cover: url de caratula -> vamos aindex -> img/src\n",
        "    cover.append(url.replace(\"index.html\", \"\") + soup.find(\"img\").get(\"src\"))\n",
        "\n",
        "    # UPC --> buscamos en la table\n",
        "    upc.append(soup.find(string=\"UPC\").find_next('td').contents[0])\n",
        "\n",
        "    # Tipo de producto\n",
        "    product_type.append(soup.find(string=\"Product Type\").find_next('td').contents[0])\n",
        "\n",
        "    #price_excl\n",
        "    price_excl.append(soup.find(string=\"Price (excl. tax)\").find_next('td').text[2:])\n",
        "\n",
        "    #Price (incl. tax)\n",
        "    price_incl.append(soup.find(string=\"Price (incl. tax)\").find_next('td').text[2:])\n",
        "\n",
        "    # Impuesto\n",
        "    tax.append(soup.find(string=\"Tax\").find_next('td').text[2:])\n",
        "\n",
        "    # Disponibilidad\n",
        "    availability.append(soup.find(string=\"Availability\").find_next('td').contents[0])\n",
        "\n",
        "    # Reseñas\n",
        "    reviews.append(soup.find(string=\"Number of reviews\").find_next('td').contents[0])\n",
        "\n",
        "    \n",
        "    \n",
        "# Agregamos a pandas para ver mejor\n",
        "scraped_data = pd.DataFrame({\n",
        "    'Title': title, \n",
        "    'Price': prices, \n",
        "    'Stock': stock,\n",
        "    'Category': categories,\n",
        "    'Cover': cover,\n",
        "    'UPC': upc,\n",
        "    'Product Type': product_type,\n",
        "    'Price (excl. tax)': price_excl,\n",
        "    'Price (incl. tax)': price_incl,\n",
        "    'Tax': tax,\n",
        "    'Availability': availability,\n",
        "    'Number of reviews': reviews\n",
        "    \n",
        "})\n",
        "scraped_data.head()"
      ]
    },
    {
      "cell_type": "code",
      "execution_count": 13,
      "metadata": {
        "colab": {
          "base_uri": "https://localhost:8080/"
        },
        "id": "3HJfeXGKpPkz",
        "outputId": "1fd994b7-f601-4ecf-c9b0-771bbb884b83"
      },
      "outputs": [
        {
          "output_type": "execute_result",
          "data": {
            "text/plain": [
              "['http://books.toscrape.com/catalogue/a-light-in-the-attic_1000/../../media/cache/fe/72/fe72f0532301ec28892ae79a629a293c.jpg',\n",
              " 'http://books.toscrape.com/catalogue/tipping-the-velvet_999/../../media/cache/08/e9/08e94f3731d7d6b760dfbfbc02ca5c62.jpg',\n",
              " 'http://books.toscrape.com/catalogue/soumission_998/../../media/cache/ee/cf/eecfe998905e455df12064dba399c075.jpg',\n",
              " 'http://books.toscrape.com/catalogue/sharp-objects_997/../../media/cache/c0/59/c05972805aa7201171b8fc71a5b00292.jpg',\n",
              " 'http://books.toscrape.com/catalogue/sapiens-a-brief-history-of-humankind_996/../../media/cache/ce/5f/ce5f052c65cc963cf4422be096e915c9.jpg']"
            ]
          },
          "metadata": {},
          "execution_count": 13
        }
      ],
      "source": [
        "# verfificamos los links de cover -> debe ser la caratula del libro\n",
        "cover[:5]"
      ]
    },
    {
      "cell_type": "code",
      "execution_count": 15,
      "metadata": {
        "id": "vBYqTmN5XZBk"
      },
      "outputs": [],
      "source": [
        "# Exportar df a csv\n",
        "scraped_data.to_csv(\n",
        "    'data_books.csv', \n",
        "    index=False, sep=';',\n",
        "    encoding='utf-8'\n",
        ")"
      ]
    },
    {
      "cell_type": "markdown",
      "source": [
        "**Linkografia**\n",
        "\n",
        "* https://towardsdatascience.com/an-introduction-to-web-scraping-with-python-a2601e8619e5"
      ],
      "metadata": {
        "id": "_iYxtKQGz7L-"
      }
    }
  ],
  "metadata": {
    "colab": {
      "collapsed_sections": [],
      "name": "Web-Sraping.ipynb",
      "provenance": [],
      "authorship_tag": "ABX9TyN18WoGiyfE0PgrGVGHA10A"
    },
    "kernelspec": {
      "display_name": "Python 3",
      "name": "python3"
    },
    "language_info": {
      "name": "python"
    }
  },
  "nbformat": 4,
  "nbformat_minor": 0
}